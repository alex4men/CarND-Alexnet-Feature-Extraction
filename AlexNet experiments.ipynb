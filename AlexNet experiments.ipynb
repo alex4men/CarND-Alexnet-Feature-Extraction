{
  "nbformat": 4,
  "nbformat_minor": 0,
  "metadata": {
    "colab": {
      "name": "AlexNet experiments.ipynb",
      "version": "0.3.2",
      "provenance": []
    },
    "language_info": {
      "codemirror_mode": {
        "name": "ipython",
        "version": 3
      },
      "file_extension": ".py",
      "mimetype": "text/x-python",
      "name": "python",
      "nbconvert_exporter": "python",
      "pygments_lexer": "ipython3",
      "version": "3.5.2"
    },
    "kernelspec": {
      "name": "python3",
      "display_name": "Python 3"
    },
    "accelerator": "TPU"
  },
  "cells": [
    {
      "cell_type": "code",
      "metadata": {
        "id": "HGD20Onxm1DQ",
        "colab_type": "code",
        "colab": {}
      },
      "source": [
        "import numpy as np\n",
        "if np.__version__ != '1.16.2':\n",
        "  !pip install numpy==1.16.2"
      ],
      "execution_count": 0,
      "outputs": []
    },
    {
      "cell_type": "code",
      "metadata": {
        "id": "xVvkcpDrdFkG",
        "colab_type": "code",
        "colab": {
          "base_uri": "https://localhost:8080/",
          "height": 510
        },
        "outputId": "86c855ab-1c18-492f-c17f-aa3e4d622340"
      },
      "source": [
        "import os\n",
        "if not 'CarND-Alexnet-Feature-Extraction/' in os.getcwd():\n",
        "  !git clone https://github.com/alex4men/CarND-Alexnet-Feature-Extraction\n",
        "  !cd CarND-Alexnet-Feature-Extraction/\n",
        "  os.chdir('CarND-Alexnet-Feature-Extraction/')\n",
        "  !wget http://video.udacity-data.com.s3.amazonaws.com/topher/2016/October/580a829f_train/train.p\n",
        "  !wget http://video.udacity-data.com.s3.amazonaws.com/topher/2016/October/580d880c_bvlc-alexnet/bvlc-alexnet.npy"
      ],
      "execution_count": 2,
      "outputs": [
        {
          "output_type": "stream",
          "text": [
            "Cloning into 'CarND-Alexnet-Feature-Extraction'...\n",
            "remote: Enumerating objects: 13, done.\u001b[K\n",
            "remote: Counting objects: 100% (13/13), done.\u001b[K\n",
            "remote: Compressing objects: 100% (12/12), done.\u001b[K\n",
            "remote: Total 128 (delta 4), reused 4 (delta 1), pack-reused 115\u001b[K\n",
            "Receiving objects: 100% (128/128), 302.04 KiB | 3.87 MiB/s, done.\n",
            "Resolving deltas: 100% (71/71), done.\n",
            "--2019-06-04 16:15:00--  http://video.udacity-data.com.s3.amazonaws.com/topher/2016/October/580a829f_train/train.p\n",
            "Resolving video.udacity-data.com.s3.amazonaws.com (video.udacity-data.com.s3.amazonaws.com)... 52.216.177.219\n",
            "Connecting to video.udacity-data.com.s3.amazonaws.com (video.udacity-data.com.s3.amazonaws.com)|52.216.177.219|:80... connected.\n",
            "HTTP request sent, awaiting response... 200 OK\n",
            "Length: 120646441 (115M) []\n",
            "Saving to: ‘train.p’\n",
            "\n",
            "train.p             100%[===================>] 115.06M  42.8MB/s    in 2.7s    \n",
            "\n",
            "2019-06-04 16:15:03 (42.8 MB/s) - ‘train.p’ saved [120646441/120646441]\n",
            "\n",
            "--2019-06-04 16:15:04--  http://video.udacity-data.com.s3.amazonaws.com/topher/2016/October/580d880c_bvlc-alexnet/bvlc-alexnet.npy\n",
            "Resolving video.udacity-data.com.s3.amazonaws.com (video.udacity-data.com.s3.amazonaws.com)... 52.216.184.107\n",
            "Connecting to video.udacity-data.com.s3.amazonaws.com (video.udacity-data.com.s3.amazonaws.com)|52.216.184.107|:80... connected.\n",
            "HTTP request sent, awaiting response... 200 OK\n",
            "Length: 243861814 (233M) []\n",
            "Saving to: ‘bvlc-alexnet.npy’\n",
            "\n",
            "bvlc-alexnet.npy    100%[===================>] 232.56M  42.1MB/s    in 5.5s    \n",
            "\n",
            "2019-06-04 16:15:10 (42.1 MB/s) - ‘bvlc-alexnet.npy’ saved [243861814/243861814]\n",
            "\n"
          ],
          "name": "stdout"
        }
      ]
    },
    {
      "cell_type": "code",
      "metadata": {
        "id": "-zVc4KYZc032",
        "colab_type": "code",
        "colab": {
          "base_uri": "https://localhost:8080/",
          "height": 128
        },
        "outputId": "af2e058a-736e-444d-e722-4ef8dffd7475"
      },
      "source": [
        "import pickle\n",
        "import time\n",
        "import tensorflow as tf\n",
        "from sklearn.model_selection import train_test_split\n",
        "from sklearn.utils import shuffle\n",
        "import numpy as np\n",
        "\n",
        "from alexnet import AlexNet\n",
        "\n",
        "nb_classes = 43\n",
        "epochs = 10\n",
        "batch_size = 128\n",
        "\n",
        "# Load traffic signs data.\n",
        "with open('./train.p', 'rb') as f:\n",
        "    data = pickle.load(f)\n",
        "\n",
        "# Split data into training and validation sets.\n",
        "X_train, X_val, y_train, y_val = train_test_split(data['features'], data['labels'], test_size=0.33, random_state=0)\n",
        "\n",
        "# Define placeholders and resize operation.\n",
        "features = tf.placeholder(tf.float32, (None, 32, 32, 3))\n",
        "labels = tf.placeholder(tf.int64, None)\n",
        "resized = tf.image.resize_images(features, (227, 227))\n",
        "\n",
        "# Returns the second final layer of the AlexNet model,\n",
        "# this allows us to redo the last layer for the traffic signs\n",
        "# model.\n",
        "# pass placeholder as first argument to `AlexNet`.\n",
        "fc7 = AlexNet(resized, feature_extract=True)\n",
        "# NOTE: `tf.stop_gradient` prevents the gradient from flowing backwards\n",
        "# past this point, keeping the weights before and up to `fc7` frozen.\n",
        "# This also makes training faster, less work to do!\n",
        "fc7 = tf.stop_gradient(fc7)"
      ],
      "execution_count": 3,
      "outputs": [
        {
          "output_type": "stream",
          "text": [
            "WARNING:tensorflow:From /usr/local/lib/python3.6/dist-packages/tensorflow/python/framework/op_def_library.py:263: colocate_with (from tensorflow.python.framework.ops) is deprecated and will be removed in a future version.\n",
            "Instructions for updating:\n",
            "Colocations handled automatically by placer.\n"
          ],
          "name": "stdout"
        }
      ]
    },
    {
      "cell_type": "code",
      "metadata": {
        "id": "k30oXkB7nc2w",
        "colab_type": "code",
        "colab": {
          "base_uri": "https://localhost:8080/",
          "height": 68
        },
        "outputId": "9730f458-b0b5-4b89-d8bd-ac5e72020917"
      },
      "source": [
        "# Add the final layer for traffic sign classification.\n",
        "shape = (fc7.get_shape().as_list()[-1], nb_classes)\n",
        "fc8W = tf.Variable(tf.truncated_normal(shape, stddev=1e-2))\n",
        "fc8b = tf.Variable(tf.zeros(nb_classes))\n",
        "logits = tf.matmul(fc7, fc8W) + fc8b\n",
        "\n",
        "# TODO: Define loss, training, accuracy operations.\n",
        "# HINT: Look back at your traffic signs project solution, you may\n",
        "# be able to reuse some the code.\n",
        "cross_entropy = tf.nn.sparse_softmax_cross_entropy_with_logits(logits=logits, labels=labels)\n",
        "loss_op = tf.reduce_mean(cross_entropy)\n",
        "opt = tf.train.AdamOptimizer()\n",
        "train_op = opt.minimize(loss_op, var_list=[fc8W, fc8b])\n",
        "init_op = tf.global_variables_initializer()\n",
        "\n",
        "preds = tf.arg_max(logits, 1)\n",
        "accuracy_op = tf.reduce_mean(tf.cast(tf.equal(preds, labels), tf.float32))"
      ],
      "execution_count": 4,
      "outputs": [
        {
          "output_type": "stream",
          "text": [
            "WARNING:tensorflow:From <ipython-input-4-2ab72d158313>:15: arg_max (from tensorflow.python.ops.gen_math_ops) is deprecated and will be removed in a future version.\n",
            "Instructions for updating:\n",
            "Use `tf.math.argmax` instead\n"
          ],
          "name": "stdout"
        }
      ]
    },
    {
      "cell_type": "code",
      "metadata": {
        "id": "dABeckRynd0z",
        "colab_type": "code",
        "colab": {}
      },
      "source": [
        "fc8W = tf.Variable(tf.truncated_normal(shape, stddev=1e-2))\n",
        "fc8b = tf.Variable(tf.zeros(nb_classes))\n",
        "logits = tf.matmul(fc7, fc8W) + fc8b\n",
        "\n",
        "# TODO: Define loss, training, accuracy operations.\n",
        "# HINT: Look back at your traffic signs project solution, you may\n",
        "# be able to reuse some the code.\n",
        "cross_entropy = tf.nn.sparse_softmax_cross_entropy_with_logits(logits=logits, labels=labels)\n",
        "loss_op = tf.reduce_mean(cross_entropy)\n",
        "opt = tf.train.AdamOptimizer()\n",
        "train_op = opt.minimize(loss_op, var_list=[fc8W, fc8b])\n",
        "init_op = tf.global_variables_initializer()\n",
        "\n",
        "preds = tf.arg_max(logits, 1)\n",
        "accuracy_op = tf.reduce_mean(tf.cast(tf.equal(preds, labels), tf.float32))"
      ],
      "execution_count": 0,
      "outputs": []
    },
    {
      "cell_type": "code",
      "metadata": {
        "colab_type": "code",
        "id": "yxal1Zy5nsdO",
        "colab": {}
      },
      "source": [
        "# Train and evaluate the feature extraction model.\n",
        "def eval_on_data(X, y, sess):\n",
        "    total_acc = 0\n",
        "    total_loss = 0\n",
        "    for offset in range(0, X.shape[0], batch_size):\n",
        "        end = offset + batch_size\n",
        "        X_batch = X[offset:end]\n",
        "        y_batch = y[offset:end]\n",
        "\n",
        "        loss, acc = sess.run([loss_op, accuracy_op], feed_dict={features: X_batch, labels: y_batch})\n",
        "        total_loss += (loss * X_batch.shape[0])\n",
        "        total_acc += (acc * X_batch.shape[0])\n",
        "\n",
        "    return total_loss/X.shape[0], total_acc/X.shape[0]"
      ],
      "execution_count": 0,
      "outputs": []
    },
    {
      "cell_type": "code",
      "metadata": {
        "id": "V32eiFtRnyDA",
        "colab_type": "code",
        "colab": {}
      },
      "source": [
        "with tf.Session() as sess:\n",
        "    sess.run(init_op)\n",
        "\n",
        "    for i in range(epochs):\n",
        "        # training\n",
        "        X_train, y_train = shuffle(X_train, y_train)\n",
        "        t0 = time.time()\n",
        "        for offset in range(0, X_train.shape[0], batch_size):\n",
        "            end = offset + batch_size\n",
        "            sess.run(train_op, feed_dict={features: X_train[offset:end], labels: y_train[offset:end]})\n",
        "\n",
        "        val_loss, val_acc = eval_on_data(X_val, y_val, sess)\n",
        "        print(\"Epoch\", i+1)\n",
        "        print(\"Time: %.3f seconds\" % (time.time() - t0))\n",
        "        print(\"Validation Loss =\", val_loss)\n",
        "        print(\"Validation Accuracy =\", val_acc)\n",
        "        print(\"\")"
      ],
      "execution_count": 0,
      "outputs": []
    },
    {
      "cell_type": "code",
      "metadata": {
        "id": "S3P41DTanzG6",
        "colab_type": "code",
        "colab": {}
      },
      "source": [
        ""
      ],
      "execution_count": 0,
      "outputs": []
    }
  ]
}