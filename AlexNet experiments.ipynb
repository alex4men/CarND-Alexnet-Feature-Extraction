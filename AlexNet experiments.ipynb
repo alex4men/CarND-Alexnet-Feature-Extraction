{
  "nbformat": 4,
  "nbformat_minor": 0,
  "metadata": {
    "colab": {
      "name": "AlexNet experiments.ipynb",
      "version": "0.3.2",
      "provenance": []
    },
    "language_info": {
      "codemirror_mode": {
        "name": "ipython",
        "version": 3
      },
      "file_extension": ".py",
      "mimetype": "text/x-python",
      "name": "python",
      "nbconvert_exporter": "python",
      "pygments_lexer": "ipython3",
      "version": "3.5.2"
    },
    "kernelspec": {
      "name": "python3",
      "display_name": "Python 3"
    },
    "accelerator": "TPU"
  },
  "cells": [
    {
      "cell_type": "code",
      "metadata": {
        "id": "HGD20Onxm1DQ",
        "colab_type": "code",
        "colab": {}
      },
      "source": [
        "import numpy as np\n",
        "if np.__version__ != '1.16.2':\n",
        "  !pip install numpy==1.16.2"
      ],
      "execution_count": 0,
      "outputs": []
    },
    {
      "cell_type": "code",
      "metadata": {
        "id": "xVvkcpDrdFkG",
        "colab_type": "code",
        "colab": {
          "base_uri": "https://localhost:8080/",
          "height": 539
        },
        "outputId": "5dd906eb-63da-4088-b66d-d52171bd643b"
      },
      "source": [
        "import os\n",
        "if not 'CarND-Alexnet-Feature-Extraction/' in os.getcwd():\n",
        "  !git clone https://github.com/alex4men/CarND-Alexnet-Feature-Extraction\n",
        "  !cd CarND-Alexnet-Feature-Extraction/\n",
        "  !wget http://video.udacity-data.com.s3.amazonaws.com/topher/2016/October/580a829f_train/train.p\n",
        "  !wget http://video.udacity-data.com.s3.amazonaws.com/topher/2016/October/580d880c_bvlc-alexnet/bvlc-alexnet.npy\n",
        "  os.chdir('CarND-Alexnet-Feature-Extraction/')"
      ],
      "execution_count": 2,
      "outputs": [
        {
          "output_type": "stream",
          "text": [
            "Cloning into 'CarND-Alexnet-Feature-Extraction'...\n",
            "remote: Enumerating objects: 10, done.\u001b[K\n",
            "remote: Counting objects: 100% (10/10), done.\u001b[K\n",
            "remote: Compressing objects: 100% (9/9), done.\u001b[K\n",
            "remote: Total 125 (delta 3), reused 4 (delta 1), pack-reused 115\u001b[K\n",
            "Receiving objects: 100% (125/125), 298.33 KiB | 3.87 MiB/s, done.\n",
            "Resolving deltas: 100% (70/70), done.\n",
            "--2019-06-04 13:18:16--  http://video.udacity-data.com.s3.amazonaws.com/topher/2016/October/580a829f_train/train.p\n",
            "Resolving video.udacity-data.com.s3.amazonaws.com (video.udacity-data.com.s3.amazonaws.com)... 52.217.0.51\n",
            "Connecting to video.udacity-data.com.s3.amazonaws.com (video.udacity-data.com.s3.amazonaws.com)|52.217.0.51|:80... connected.\n",
            "HTTP request sent, awaiting response... 200 OK\n",
            "Length: 120646441 (115M) []\n",
            "Saving to: ‘train.p’\n",
            "\n",
            "train.p             100%[===================>] 115.06M  45.4MB/s    in 2.5s    \n",
            "\n",
            "2019-06-04 13:18:19 (45.4 MB/s) - ‘train.p’ saved [120646441/120646441]\n",
            "\n",
            "--2019-06-04 13:18:19--  http://video.udacity-data.com.s3.amazonaws.com/topher/2016/October/580d880c_bvlc-alexnet/bvlc-alexnet.npy\n",
            "Resolving video.udacity-data.com.s3.amazonaws.com (video.udacity-data.com.s3.amazonaws.com)... 52.217.0.51\n",
            "Connecting to video.udacity-data.com.s3.amazonaws.com (video.udacity-data.com.s3.amazonaws.com)|52.217.0.51|:80... connected.\n",
            "HTTP request sent, awaiting response... 200 OK\n",
            "Length: 243861814 (233M) []\n",
            "Saving to: ‘bvlc-alexnet.npy’\n",
            "\n",
            "bvlc-alexnet.npy    100%[===================>] 232.56M  51.7MB/s    in 4.5s    \n",
            "\n",
            "2019-06-04 13:18:24 (51.7 MB/s) - ‘bvlc-alexnet.npy’ saved [243861814/243861814]\n",
            "\n"
          ],
          "name": "stdout"
        }
      ]
    },
    {
      "cell_type": "code",
      "metadata": {
        "id": "-zVc4KYZc032",
        "colab_type": "code",
        "colab": {
          "base_uri": "https://localhost:8080/",
          "height": 375
        },
        "outputId": "79f09514-d538-46b9-916e-96f1278293c7"
      },
      "source": [
        "import pickle\n",
        "import time\n",
        "import tensorflow as tf\n",
        "from sklearn.model_selection import train_test_split\n",
        "from sklearn.utils import shuffle\n",
        "import numpy as np\n",
        "\n",
        "from alexnet import AlexNet\n",
        "\n",
        "nb_classes = 43\n",
        "epochs = 10\n",
        "batch_size = 128\n",
        "\n",
        "# Load traffic signs data.\n",
        "with open('./train.p', 'rb') as f:\n",
        "    data = pickle.load(f)\n",
        "\n",
        "# Split data into training and validation sets.\n",
        "X_train, X_val, y_train, y_val = train_test_split(data['features'], data['labels'], test_size=0.33, random_state=0)\n",
        "\n",
        "# Define placeholders and resize operation.\n",
        "features = tf.placeholder(tf.float32, (None, 32, 32, 3))\n",
        "labels = tf.placeholder(tf.int64, None)\n",
        "resized = tf.image.resize_images(features, (227, 227))\n",
        "\n",
        "# Returns the second final layer of the AlexNet model,\n",
        "# this allows us to redo the last layer for the traffic signs\n",
        "# model.\n",
        "# pass placeholder as first argument to `AlexNet`.\n",
        "fc7 = AlexNet(resized, feature_extract=True)\n",
        "# NOTE: `tf.stop_gradient` prevents the gradient from flowing backwards\n",
        "# past this point, keeping the weights before and up to `fc7` frozen.\n",
        "# This also makes training faster, less work to do!\n",
        "fc7 = tf.stop_gradient(fc7)"
      ],
      "execution_count": 3,
      "outputs": [
        {
          "output_type": "error",
          "ename": "FileNotFoundError",
          "evalue": "ignored",
          "traceback": [
            "\u001b[0;31m---------------------------------------------------------------------------\u001b[0m",
            "\u001b[0;31mFileNotFoundError\u001b[0m                         Traceback (most recent call last)",
            "\u001b[0;32m<ipython-input-3-38f6e7c52554>\u001b[0m in \u001b[0;36m<module>\u001b[0;34m()\u001b[0m\n\u001b[1;32m      6\u001b[0m \u001b[0;32mimport\u001b[0m \u001b[0mnumpy\u001b[0m \u001b[0;32mas\u001b[0m \u001b[0mnp\u001b[0m\u001b[0;34m\u001b[0m\u001b[0;34m\u001b[0m\u001b[0m\n\u001b[1;32m      7\u001b[0m \u001b[0;34m\u001b[0m\u001b[0m\n\u001b[0;32m----> 8\u001b[0;31m \u001b[0;32mfrom\u001b[0m \u001b[0malexnet\u001b[0m \u001b[0;32mimport\u001b[0m \u001b[0mAlexNet\u001b[0m\u001b[0;34m\u001b[0m\u001b[0;34m\u001b[0m\u001b[0m\n\u001b[0m\u001b[1;32m      9\u001b[0m \u001b[0;34m\u001b[0m\u001b[0m\n\u001b[1;32m     10\u001b[0m \u001b[0mnb_classes\u001b[0m \u001b[0;34m=\u001b[0m \u001b[0;36m43\u001b[0m\u001b[0;34m\u001b[0m\u001b[0;34m\u001b[0m\u001b[0m\n",
            "\u001b[0;32m/content/CarND-Alexnet-Feature-Extraction/alexnet.py\u001b[0m in \u001b[0;36m<module>\u001b[0;34m()\u001b[0m\n\u001b[1;32m      2\u001b[0m \u001b[0;32mimport\u001b[0m \u001b[0mtensorflow\u001b[0m \u001b[0;32mas\u001b[0m \u001b[0mtf\u001b[0m\u001b[0;34m\u001b[0m\u001b[0;34m\u001b[0m\u001b[0m\n\u001b[1;32m      3\u001b[0m \u001b[0;34m\u001b[0m\u001b[0m\n\u001b[0;32m----> 4\u001b[0;31m \u001b[0mnet_data\u001b[0m \u001b[0;34m=\u001b[0m \u001b[0mnp\u001b[0m\u001b[0;34m.\u001b[0m\u001b[0mload\u001b[0m\u001b[0;34m(\u001b[0m\u001b[0;34m\"bvlc-alexnet.npy\"\u001b[0m\u001b[0;34m,\u001b[0m \u001b[0mencoding\u001b[0m\u001b[0;34m=\u001b[0m\u001b[0;34m\"latin1\"\u001b[0m\u001b[0;34m)\u001b[0m\u001b[0;34m.\u001b[0m\u001b[0mitem\u001b[0m\u001b[0;34m(\u001b[0m\u001b[0;34m)\u001b[0m\u001b[0;34m\u001b[0m\u001b[0;34m\u001b[0m\u001b[0m\n\u001b[0m\u001b[1;32m      5\u001b[0m \u001b[0;34m\u001b[0m\u001b[0m\n\u001b[1;32m      6\u001b[0m \u001b[0;34m\u001b[0m\u001b[0m\n",
            "\u001b[0;32m/usr/local/lib/python3.6/dist-packages/numpy/lib/npyio.py\u001b[0m in \u001b[0;36mload\u001b[0;34m(file, mmap_mode, allow_pickle, fix_imports, encoding)\u001b[0m\n\u001b[1;32m    413\u001b[0m         \u001b[0mown_fid\u001b[0m \u001b[0;34m=\u001b[0m \u001b[0;32mFalse\u001b[0m\u001b[0;34m\u001b[0m\u001b[0;34m\u001b[0m\u001b[0m\n\u001b[1;32m    414\u001b[0m     \u001b[0;32melse\u001b[0m\u001b[0;34m:\u001b[0m\u001b[0;34m\u001b[0m\u001b[0;34m\u001b[0m\u001b[0m\n\u001b[0;32m--> 415\u001b[0;31m         \u001b[0mfid\u001b[0m \u001b[0;34m=\u001b[0m \u001b[0mopen\u001b[0m\u001b[0;34m(\u001b[0m\u001b[0mos_fspath\u001b[0m\u001b[0;34m(\u001b[0m\u001b[0mfile\u001b[0m\u001b[0;34m)\u001b[0m\u001b[0;34m,\u001b[0m \u001b[0;34m\"rb\"\u001b[0m\u001b[0;34m)\u001b[0m\u001b[0;34m\u001b[0m\u001b[0;34m\u001b[0m\u001b[0m\n\u001b[0m\u001b[1;32m    416\u001b[0m         \u001b[0mown_fid\u001b[0m \u001b[0;34m=\u001b[0m \u001b[0;32mTrue\u001b[0m\u001b[0;34m\u001b[0m\u001b[0;34m\u001b[0m\u001b[0m\n\u001b[1;32m    417\u001b[0m \u001b[0;34m\u001b[0m\u001b[0m\n",
            "\u001b[0;31mFileNotFoundError\u001b[0m: [Errno 2] No such file or directory: 'bvlc-alexnet.npy'"
          ]
        }
      ]
    },
    {
      "cell_type": "code",
      "metadata": {
        "id": "k30oXkB7nc2w",
        "colab_type": "code",
        "colab": {}
      },
      "source": [
        "# Add the final layer for traffic sign classification.\n",
        "shape = (fc7.get_shape().as_list()[-1], nb_classes)\n",
        "fc8W = tf.Variable(tf.truncated_normal(shape, stddev=1e-2))\n",
        "fc8b = tf.Variable(tf.zeros(nb_classes))\n",
        "logits = tf.matmul(fc7, fc8W) + fc8b\n",
        "\n",
        "# TODO: Define loss, training, accuracy operations.\n",
        "# HINT: Look back at your traffic signs project solution, you may\n",
        "# be able to reuse some the code.\n",
        "cross_entropy = tf.nn.sparse_softmax_cross_entropy_with_logits(logits=logits, labels=labels)\n",
        "loss_op = tf.reduce_mean(cross_entropy)\n",
        "opt = tf.train.AdamOptimizer()\n",
        "train_op = opt.minimize(loss_op, var_list=[fc8W, fc8b])\n",
        "init_op = tf.global_variables_initializer()\n",
        "\n",
        "preds = tf.arg_max(logits, 1)\n",
        "accuracy_op = tf.reduce_mean(tf.cast(tf.equal(preds, labels), tf.float32))"
      ],
      "execution_count": 0,
      "outputs": []
    },
    {
      "cell_type": "code",
      "metadata": {
        "id": "dABeckRynd0z",
        "colab_type": "code",
        "colab": {
          "base_uri": "https://localhost:8080/",
          "height": 232
        },
        "outputId": "e2c77055-a72c-410f-b190-96848728457a"
      },
      "source": [
        "fc8W = tf.Variable(tf.truncated_normal(shape, stddev=1e-2))\n",
        "fc8b = tf.Variable(tf.zeros(nb_classes))\n",
        "logits = tf.matmul(fc7, fc8W) + fc8b\n",
        "\n",
        "# TODO: Define loss, training, accuracy operations.\n",
        "# HINT: Look back at your traffic signs project solution, you may\n",
        "# be able to reuse some the code.\n",
        "cross_entropy = tf.nn.sparse_softmax_cross_entropy_with_logits(logits=logits, labels=labels)\n",
        "loss_op = tf.reduce_mean(cross_entropy)\n",
        "opt = tf.train.AdamOptimizer()\n",
        "train_op = opt.minimize(loss_op, var_list=[fc8W, fc8b])\n",
        "init_op = tf.global_variables_initializer()\n",
        "\n",
        "preds = tf.arg_max(logits, 1)\n",
        "accuracy_op = tf.reduce_mean(tf.cast(tf.equal(preds, labels), tf.float32))"
      ],
      "execution_count": 4,
      "outputs": [
        {
          "output_type": "error",
          "ename": "NameError",
          "evalue": "ignored",
          "traceback": [
            "\u001b[0;31m---------------------------------------------------------------------------\u001b[0m",
            "\u001b[0;31mNameError\u001b[0m                                 Traceback (most recent call last)",
            "\u001b[0;32m<ipython-input-4-dcd77c6c7fb6>\u001b[0m in \u001b[0;36m<module>\u001b[0;34m()\u001b[0m\n\u001b[0;32m----> 1\u001b[0;31m \u001b[0mfc8W\u001b[0m \u001b[0;34m=\u001b[0m \u001b[0mtf\u001b[0m\u001b[0;34m.\u001b[0m\u001b[0mVariable\u001b[0m\u001b[0;34m(\u001b[0m\u001b[0mtf\u001b[0m\u001b[0;34m.\u001b[0m\u001b[0mtruncated_normal\u001b[0m\u001b[0;34m(\u001b[0m\u001b[0mshape\u001b[0m\u001b[0;34m,\u001b[0m \u001b[0mstddev\u001b[0m\u001b[0;34m=\u001b[0m\u001b[0;36m1e-2\u001b[0m\u001b[0;34m)\u001b[0m\u001b[0;34m)\u001b[0m\u001b[0;34m\u001b[0m\u001b[0;34m\u001b[0m\u001b[0m\n\u001b[0m\u001b[1;32m      2\u001b[0m \u001b[0mfc8b\u001b[0m \u001b[0;34m=\u001b[0m \u001b[0mtf\u001b[0m\u001b[0;34m.\u001b[0m\u001b[0mVariable\u001b[0m\u001b[0;34m(\u001b[0m\u001b[0mtf\u001b[0m\u001b[0;34m.\u001b[0m\u001b[0mzeros\u001b[0m\u001b[0;34m(\u001b[0m\u001b[0mnb_classes\u001b[0m\u001b[0;34m)\u001b[0m\u001b[0;34m)\u001b[0m\u001b[0;34m\u001b[0m\u001b[0;34m\u001b[0m\u001b[0m\n\u001b[1;32m      3\u001b[0m \u001b[0mlogits\u001b[0m \u001b[0;34m=\u001b[0m \u001b[0mtf\u001b[0m\u001b[0;34m.\u001b[0m\u001b[0mmatmul\u001b[0m\u001b[0;34m(\u001b[0m\u001b[0mfc7\u001b[0m\u001b[0;34m,\u001b[0m \u001b[0mfc8W\u001b[0m\u001b[0;34m)\u001b[0m \u001b[0;34m+\u001b[0m \u001b[0mfc8b\u001b[0m\u001b[0;34m\u001b[0m\u001b[0;34m\u001b[0m\u001b[0m\n\u001b[1;32m      4\u001b[0m \u001b[0;34m\u001b[0m\u001b[0m\n\u001b[1;32m      5\u001b[0m \u001b[0;31m# TODO: Define loss, training, accuracy operations.\u001b[0m\u001b[0;34m\u001b[0m\u001b[0;34m\u001b[0m\u001b[0;34m\u001b[0m\u001b[0m\n",
            "\u001b[0;31mNameError\u001b[0m: name 'shape' is not defined"
          ]
        }
      ]
    },
    {
      "cell_type": "code",
      "metadata": {
        "colab_type": "code",
        "id": "yxal1Zy5nsdO",
        "colab": {}
      },
      "source": [
        "# Train and evaluate the feature extraction model.\n",
        "def eval_on_data(X, y, sess):\n",
        "    total_acc = 0\n",
        "    total_loss = 0\n",
        "    for offset in range(0, X.shape[0], batch_size):\n",
        "        end = offset + batch_size\n",
        "        X_batch = X[offset:end]\n",
        "        y_batch = y[offset:end]\n",
        "\n",
        "        loss, acc = sess.run([loss_op, accuracy_op], feed_dict={features: X_batch, labels: y_batch})\n",
        "        total_loss += (loss * X_batch.shape[0])\n",
        "        total_acc += (acc * X_batch.shape[0])\n",
        "\n",
        "    return total_loss/X.shape[0], total_acc/X.shape[0]"
      ],
      "execution_count": 0,
      "outputs": []
    },
    {
      "cell_type": "code",
      "metadata": {
        "id": "V32eiFtRnyDA",
        "colab_type": "code",
        "colab": {}
      },
      "source": [
        "with tf.Session() as sess:\n",
        "    sess.run(init_op)\n",
        "\n",
        "    for i in range(epochs):\n",
        "        # training\n",
        "        X_train, y_train = shuffle(X_train, y_train)\n",
        "        t0 = time.time()\n",
        "        for offset in range(0, X_train.shape[0], batch_size):\n",
        "            end = offset + batch_size\n",
        "            sess.run(train_op, feed_dict={features: X_train[offset:end], labels: y_train[offset:end]})\n",
        "\n",
        "        val_loss, val_acc = eval_on_data(X_val, y_val, sess)\n",
        "        print(\"Epoch\", i+1)\n",
        "        print(\"Time: %.3f seconds\" % (time.time() - t0))\n",
        "        print(\"Validation Loss =\", val_loss)\n",
        "        print(\"Validation Accuracy =\", val_acc)\n",
        "        print(\"\")"
      ],
      "execution_count": 0,
      "outputs": []
    },
    {
      "cell_type": "code",
      "metadata": {
        "id": "S3P41DTanzG6",
        "colab_type": "code",
        "colab": {}
      },
      "source": [
        ""
      ],
      "execution_count": 0,
      "outputs": []
    }
  ]
}